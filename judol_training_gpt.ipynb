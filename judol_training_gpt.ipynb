{
 "cells": [
  {
   "cell_type": "code",
   "execution_count": 1,
   "id": "207bdfb5",
   "metadata": {},
   "outputs": [],
   "source": [
    "import glob\n",
    "import pandas as pd\n",
    "import numpy as np\n",
    "import tensorflow as tf\n",
    "import matplotlib.pyplot as plt\n",
    "from tensorflow.keras.preprocessing.text import Tokenizer\n",
    "from tensorflow.keras.preprocessing.sequence import pad_sequences\n",
    "from tensorflow.keras.models import Sequential\n",
    "from tensorflow.keras.layers import Embedding, LSTM, Dense, Dropout\n",
    "from sklearn.model_selection import train_test_split\n",
    "import json"
   ]
  },
  {
   "cell_type": "code",
   "execution_count": 3,
   "id": "feb804f9",
   "metadata": {},
   "outputs": [
    {
     "data": {
      "text/html": [
       "<div>\n",
       "<style scoped>\n",
       "    .dataframe tbody tr th:only-of-type {\n",
       "        vertical-align: middle;\n",
       "    }\n",
       "\n",
       "    .dataframe tbody tr th {\n",
       "        vertical-align: top;\n",
       "    }\n",
       "\n",
       "    .dataframe thead th {\n",
       "        text-align: right;\n",
       "    }\n",
       "</style>\n",
       "<table border=\"1\" class=\"dataframe\">\n",
       "  <thead>\n",
       "    <tr style=\"text-align: right;\">\n",
       "      <th></th>\n",
       "      <th>label</th>\n",
       "      <th>author</th>\n",
       "      <th>comment</th>\n",
       "      <th>id</th>\n",
       "      <th>channel</th>\n",
       "      <th>title</th>\n",
       "    </tr>\n",
       "  </thead>\n",
       "  <tbody>\n",
       "    <tr>\n",
       "      <th>0</th>\n",
       "      <td>1</td>\n",
       "      <td>Abatistalima-b4t</td>\n",
       "      <td>AЕR𝐎𝟴𝟴 gua main dikit aja, saldo lngsg nambah</td>\n",
       "      <td>CIUnp8NMw8w</td>\n",
       "      <td>Deddy Corbuzier</td>\n",
       "      <td>TERNYATA ARAFAH PERNAH PACARAN SAMA ATE‼️😅 - P...</td>\n",
       "    </tr>\n",
       "    <tr>\n",
       "      <th>1</th>\n",
       "      <td>1</td>\n",
       "      <td>AbdulkadirMustafa-z4t</td>\n",
       "      <td>Sebelumnya bermain di tempat lain terasa kuran...</td>\n",
       "      <td>CIUnp8NMw8w</td>\n",
       "      <td>Deddy Corbuzier</td>\n",
       "      <td>TERNYATA ARAFAH PERNAH PACARAN SAMA ATE‼️😅 - P...</td>\n",
       "    </tr>\n",
       "    <tr>\n",
       "      <th>2</th>\n",
       "      <td>1</td>\n",
       "      <td>abdullaGodgift-m1w</td>\n",
       "      <td>AЕR𝐎𝟴𝟴 aku sih gmpang bgt dapet WEDEY gede dsini</td>\n",
       "      <td>CIUnp8NMw8w</td>\n",
       "      <td>Deddy Corbuzier</td>\n",
       "      <td>TERNYATA ARAFAH PERNAH PACARAN SAMA ATE‼️😅 - P...</td>\n",
       "    </tr>\n",
       "    <tr>\n",
       "      <th>3</th>\n",
       "      <td>1</td>\n",
       "      <td>AbdullahFABIAN-i2m</td>\n",
       "      <td>AЕR𝐎𝟴𝟴 gua cba bentar, eh lgnsung dapet jackpot</td>\n",
       "      <td>CIUnp8NMw8w</td>\n",
       "      <td>Deddy Corbuzier</td>\n",
       "      <td>TERNYATA ARAFAH PERNAH PACARAN SAMA ATE‼️😅 - P...</td>\n",
       "    </tr>\n",
       "    <tr>\n",
       "      <th>4</th>\n",
       "      <td>1</td>\n",
       "      <td>Abergerontorres-s3d</td>\n",
       "      <td>AЕR𝐎𝟴𝟴 aku cba maen, malah jackpot gede</td>\n",
       "      <td>CIUnp8NMw8w</td>\n",
       "      <td>Deddy Corbuzier</td>\n",
       "      <td>TERNYATA ARAFAH PERNAH PACARAN SAMA ATE‼️😅 - P...</td>\n",
       "    </tr>\n",
       "    <tr>\n",
       "      <th>...</th>\n",
       "      <td>...</td>\n",
       "      <td>...</td>\n",
       "      <td>...</td>\n",
       "      <td>...</td>\n",
       "      <td>...</td>\n",
       "      <td>...</td>\n",
       "    </tr>\n",
       "    <tr>\n",
       "      <th>20802</th>\n",
       "      <td>0</td>\n",
       "      <td>HolleSangma</td>\n",
       "      <td>gua udah 5tahun main di  alexis17.  jangka pan...</td>\n",
       "      <td>sck5d_eDT30</td>\n",
       "      <td>Jonathan Liandi</td>\n",
       "      <td>Review Skin Collector Melissa - Mobile Legends</td>\n",
       "    </tr>\n",
       "    <tr>\n",
       "      <th>20803</th>\n",
       "      <td>0</td>\n",
       "      <td>Jigen287</td>\n",
       "      <td>Kita butuh impaction</td>\n",
       "      <td>sck5d_eDT30</td>\n",
       "      <td>Jonathan Liandi</td>\n",
       "      <td>Review Skin Collector Melissa - Mobile Legends</td>\n",
       "    </tr>\n",
       "    <tr>\n",
       "      <th>20804</th>\n",
       "      <td>0</td>\n",
       "      <td>mirzarayyan5423</td>\n",
       "      <td>Cih, masih epigh</td>\n",
       "      <td>sck5d_eDT30</td>\n",
       "      <td>Jonathan Liandi</td>\n",
       "      <td>Review Skin Collector Melissa - Mobile Legends</td>\n",
       "    </tr>\n",
       "    <tr>\n",
       "      <th>20805</th>\n",
       "      <td>0</td>\n",
       "      <td>jayyjoo15</td>\n",
       "      <td>SKIN GARA UDAH KELIATAN BANGG</td>\n",
       "      <td>sck5d_eDT30</td>\n",
       "      <td>Jonathan Liandi</td>\n",
       "      <td>Review Skin Collector Melissa - Mobile Legends</td>\n",
       "    </tr>\n",
       "    <tr>\n",
       "      <th>20806</th>\n",
       "      <td>0</td>\n",
       "      <td>jayyjoo15</td>\n",
       "      <td>COLLAB NARUTO CAKEP BANGET BANGG SUMPAHH PENGE...</td>\n",
       "      <td>sck5d_eDT30</td>\n",
       "      <td>Jonathan Liandi</td>\n",
       "      <td>Review Skin Collector Melissa - Mobile Legends</td>\n",
       "    </tr>\n",
       "  </tbody>\n",
       "</table>\n",
       "<p>20807 rows × 6 columns</p>\n",
       "</div>"
      ],
      "text/plain": [
       "       label                 author  \\\n",
       "0          1       Abatistalima-b4t   \n",
       "1          1  AbdulkadirMustafa-z4t   \n",
       "2          1     abdullaGodgift-m1w   \n",
       "3          1     AbdullahFABIAN-i2m   \n",
       "4          1    Abergerontorres-s3d   \n",
       "...      ...                    ...   \n",
       "20802      0            HolleSangma   \n",
       "20803      0               Jigen287   \n",
       "20804      0        mirzarayyan5423   \n",
       "20805      0              jayyjoo15   \n",
       "20806      0              jayyjoo15   \n",
       "\n",
       "                                                 comment           id  \\\n",
       "0          AЕR𝐎𝟴𝟴 gua main dikit aja, saldo lngsg nambah  CIUnp8NMw8w   \n",
       "1      Sebelumnya bermain di tempat lain terasa kuran...  CIUnp8NMw8w   \n",
       "2       AЕR𝐎𝟴𝟴 aku sih gmpang bgt dapet WEDEY gede dsini  CIUnp8NMw8w   \n",
       "3        AЕR𝐎𝟴𝟴 gua cba bentar, eh lgnsung dapet jackpot  CIUnp8NMw8w   \n",
       "4                AЕR𝐎𝟴𝟴 aku cba maen, malah jackpot gede  CIUnp8NMw8w   \n",
       "...                                                  ...          ...   \n",
       "20802  gua udah 5tahun main di  alexis17.  jangka pan...  sck5d_eDT30   \n",
       "20803                               Kita butuh impaction  sck5d_eDT30   \n",
       "20804                                   Cih, masih epigh  sck5d_eDT30   \n",
       "20805                      SKIN GARA UDAH KELIATAN BANGG  sck5d_eDT30   \n",
       "20806  COLLAB NARUTO CAKEP BANGET BANGG SUMPAHH PENGE...  sck5d_eDT30   \n",
       "\n",
       "               channel                                              title  \n",
       "0      Deddy Corbuzier  TERNYATA ARAFAH PERNAH PACARAN SAMA ATE‼️😅 - P...  \n",
       "1      Deddy Corbuzier  TERNYATA ARAFAH PERNAH PACARAN SAMA ATE‼️😅 - P...  \n",
       "2      Deddy Corbuzier  TERNYATA ARAFAH PERNAH PACARAN SAMA ATE‼️😅 - P...  \n",
       "3      Deddy Corbuzier  TERNYATA ARAFAH PERNAH PACARAN SAMA ATE‼️😅 - P...  \n",
       "4      Deddy Corbuzier  TERNYATA ARAFAH PERNAH PACARAN SAMA ATE‼️😅 - P...  \n",
       "...                ...                                                ...  \n",
       "20802  Jonathan Liandi     Review Skin Collector Melissa - Mobile Legends  \n",
       "20803  Jonathan Liandi     Review Skin Collector Melissa - Mobile Legends  \n",
       "20804  Jonathan Liandi     Review Skin Collector Melissa - Mobile Legends  \n",
       "20805  Jonathan Liandi     Review Skin Collector Melissa - Mobile Legends  \n",
       "20806  Jonathan Liandi     Review Skin Collector Melissa - Mobile Legends  \n",
       "\n",
       "[20807 rows x 6 columns]"
      ]
     },
     "execution_count": 3,
     "metadata": {},
     "output_type": "execute_result"
    }
   ],
   "source": [
    "\n",
    "dataset = pd.read_csv(\"dataset.csv\")\n",
    "dataset"
   ]
  },
  {
   "cell_type": "code",
   "execution_count": 4,
   "id": "8128bd89",
   "metadata": {},
   "outputs": [],
   "source": [
    "df = pd.DataFrame(dataset['comment'])"
   ]
  },
  {
   "cell_type": "code",
   "execution_count": 14,
   "id": "8fb379aa",
   "metadata": {},
   "outputs": [
    {
     "name": "stderr",
     "output_type": "stream",
     "text": [
      "c:\\Users\\diash\\anaconda3\\envs\\Generative_ai\\Lib\\site-packages\\transformers\\tokenization_utils_base.py:1601: FutureWarning: `clean_up_tokenization_spaces` was not set. It will be set to `True` by default. This behavior will be depracted in transformers v4.45, and will be then set to `False` by default. For more details check this issue: https://github.com/huggingface/transformers/issues/31884\n",
      "  warnings.warn(\n"
     ]
    }
   ],
   "source": [
    "from transformers import GPT2Tokenizer\n",
    "from sklearn.model_selection import train_test_split\n",
    "\n",
    "# Loading the dataset to train our model\n",
    "dataset = pd.read_csv(\"dataset.csv\")\n",
    "\n",
    "# Split the dataset into train and test sets\n",
    "train_data, test_data = train_test_split(dataset, test_size=0.2, random_state=42)\n",
    "\n",
    "# Initialize tokenizer\n",
    "tokenizer = GPT2Tokenizer.from_pretrained(\"gpt2\")\n",
    "tokenizer.pad_token = tokenizer.eos_token\n",
    "\n",
    "# Modified tokenize function\n",
    "def tokenize_function(text):\n",
    "    return tokenizer(\n",
    "        text,\n",
    "        padding=\"max_length\",\n",
    "        truncation=True,\n",
    "        max_length=128,  \n",
    "        return_tensors=\"pt\"\n",
    "    )\n",
    "\n",
    "# Apply tokenization to both train and test sets\n",
    "train_tokenized = train_data['comment'].apply(tokenize_function)\n",
    "test_tokenized = test_data['comment'].apply(tokenize_function)\n"
   ]
  },
  {
   "cell_type": "code",
   "execution_count": 16,
   "id": "2447ae53",
   "metadata": {},
   "outputs": [
    {
     "name": "stderr",
     "output_type": "stream",
     "text": [
      "Some weights of GPT2ForSequenceClassification were not initialized from the model checkpoint at gpt2 and are newly initialized: ['score.weight']\n",
      "You should probably TRAIN this model on a down-stream task to be able to use it for predictions and inference.\n"
     ]
    }
   ],
   "source": [
    "from transformers import GPT2ForSequenceClassification\n",
    "\n",
    "model = GPT2ForSequenceClassification.from_pretrained(\"gpt2\", num_labels=2)"
   ]
  },
  {
   "cell_type": "code",
   "execution_count": null,
   "id": "f214157f",
   "metadata": {},
   "outputs": [],
   "source": [
    "# Using Gemma\n",
    "from transformers import GemmaForSequenceClassification, GemmaTokenizer\n",
    "\n",
    "tokenizer = GemmaTokenizer.from_pretrained(\"google/gemma-2b\")\n",
    "model = GemmaForSequenceClassification.from_pretrained(\"google/gemma-2b\", num_labels=2)\n",
    "\n",
    "# Or using BERT\n",
    "from transformers import BertTokenizer, BertForSequenceClassification\n",
    "\n",
    "tokenizer = BertTokenizer.from_pretrained('bert-base-uncased')\n",
    "model = BertForSequenceClassification.from_pretrained('bert-base-uncased', num_labels=2)\n",
    "\n",
    "# Or using RoBERTa\n",
    "from transformers import RobertaTokenizer, RobertaForSequenceClassification\n",
    "\n",
    "tokenizer = RobertaTokenizer.from_pretrained('roberta-base')\n",
    "model = RobertaForSequenceClassification.from_pretrained('roberta-base', num_labels=2)\n",
    "\n",
    "# Or using DeBERTa\n",
    "from transformers import DebertaTokenizer, DebertaForSequenceClassification\n",
    "\n",
    "tokenizer = DebertaTokenizer.from_pretrained('microsoft/deberta-base')\n",
    "model = DebertaForSequenceClassification.from_pretrained('microsoft/deberta-base', num_labels=2)"
   ]
  },
  {
   "cell_type": "code",
   "execution_count": 17,
   "id": "da97e97f",
   "metadata": {},
   "outputs": [],
   "source": [
    "import evaluate\n",
    "import numpy as np\n",
    "\n",
    "metric = evaluate.load(\"accuracy\")\n",
    "\n",
    "def compute_metrics(eval_pred):\n",
    "    logits, labels = eval_pred\n",
    "    predictions = np.argmax(logits, axis=-1)\n",
    "    return metric.compute(predictions=predictions, references=labels)"
   ]
  },
  {
   "cell_type": "code",
   "execution_count": 18,
   "id": "f188c426",
   "metadata": {},
   "outputs": [
    {
     "name": "stderr",
     "output_type": "stream",
     "text": [
      "                                     \n",
      "100%|██████████| 6/6 [00:36<00:00,  6.07s/it]"
     ]
    },
    {
     "name": "stdout",
     "output_type": "stream",
     "text": [
      "{'train_runtime': 36.4253, 'train_samples_per_second': 0.824, 'train_steps_per_second': 0.165, 'train_loss': 3.8675966262817383, 'epoch': 2.4}\n"
     ]
    },
    {
     "name": "stderr",
     "output_type": "stream",
     "text": [
      "\n"
     ]
    },
    {
     "data": {
      "text/plain": [
       "TrainOutput(global_step=6, training_loss=3.8675966262817383, metrics={'train_runtime': 36.4253, 'train_samples_per_second': 0.824, 'train_steps_per_second': 0.165, 'total_flos': 1567780503552.0, 'train_loss': 3.8675966262817383, 'epoch': 2.4})"
      ]
     },
     "execution_count": 18,
     "metadata": {},
     "output_type": "execute_result"
    }
   ],
   "source": [
    "from transformers import TrainingArguments, Trainer\n",
    "from torch.utils.data import Dataset\n",
    "\n",
    "# Create a custom dataset class\n",
    "class CommentDataset(Dataset):\n",
    "    def __init__(self, texts, labels, tokenizer, max_length=128):\n",
    "        self.texts = texts\n",
    "        self.labels = labels\n",
    "        self.tokenizer = tokenizer\n",
    "        self.max_length = max_length\n",
    "\n",
    "    def __len__(self):\n",
    "        return len(self.texts)\n",
    "\n",
    "    def __getitem__(self, idx):\n",
    "        text = str(self.texts.iloc[idx])\n",
    "        label = self.labels.iloc[idx]\n",
    "        \n",
    "        encoding = self.tokenizer(\n",
    "            text,\n",
    "            padding='max_length',\n",
    "            truncation=True,\n",
    "            max_length=self.max_length,\n",
    "            return_tensors='pt'\n",
    "        )\n",
    "        \n",
    "        # Remove the batch dimension the tokenizer adds\n",
    "        item = {\n",
    "            'input_ids': encoding['input_ids'].squeeze(),\n",
    "            'attention_mask': encoding['attention_mask'].squeeze(),\n",
    "            'labels': label\n",
    "        }\n",
    "        \n",
    "        return item\n",
    "\n",
    "# Create dataset instances\n",
    "train_dataset = CommentDataset(\n",
    "    train_data['comment'], \n",
    "    train_data['label'],  # Assuming 'label' is your target column\n",
    "    tokenizer\n",
    ")\n",
    "\n",
    "eval_dataset = CommentDataset(\n",
    "    test_data['comment'],\n",
    "    test_data['label'],  # Assuming 'label' is your target column\n",
    "    tokenizer\n",
    ")\n",
    "\n",
    "# Create small subsets for testing\n",
    "small_train_dataset = CommentDataset(\n",
    "    train_data['comment'].iloc[:10],\n",
    "    train_data['label'].iloc[:10],  # Assuming 'label' is your target column\n",
    "    tokenizer\n",
    ")\n",
    "\n",
    "small_eval_dataset = CommentDataset(\n",
    "    test_data['comment'].iloc[:10],\n",
    "    test_data['label'].iloc[:10],  # Assuming 'label' is your target column\n",
    "    tokenizer\n",
    ")\n",
    "\n",
    "# Training arguments and trainer setup remain the same\n",
    "training_args = TrainingArguments(\n",
    "    output_dir=\"test_trainer\",\n",
    "    per_device_train_batch_size=1,\n",
    "    per_device_eval_batch_size=1,\n",
    "    gradient_accumulation_steps=4,\n",
    "    num_train_epochs=3,  # Add number of training epochs\n",
    "    logging_dir=\"./logs\",\n",
    "    logging_steps=10,\n",
    ")\n",
    "\n",
    "trainer = Trainer(\n",
    "    model=model,\n",
    "    args=training_args,\n",
    "    train_dataset=small_train_dataset,\n",
    "    eval_dataset=small_eval_dataset,\n",
    "    compute_metrics=compute_metrics,\n",
    ")\n",
    "\n",
    "trainer.train()\n"
   ]
  },
  {
   "cell_type": "code",
   "execution_count": 19,
   "id": "8c3d8755",
   "metadata": {},
   "outputs": [
    {
     "name": "stderr",
     "output_type": "stream",
     "text": [
      "100%|██████████| 10/10 [00:03<00:00,  3.21it/s]\n"
     ]
    },
    {
     "data": {
      "text/plain": [
       "{'eval_loss': 1.1046736240386963,\n",
       " 'eval_accuracy': 0.8,\n",
       " 'eval_runtime': 3.5205,\n",
       " 'eval_samples_per_second': 2.841,\n",
       " 'eval_steps_per_second': 2.841,\n",
       " 'epoch': 2.4}"
      ]
     },
     "execution_count": 19,
     "metadata": {},
     "output_type": "execute_result"
    }
   ],
   "source": [
    "import evaluate\n",
    "\n",
    "trainer.evaluate()\n"
   ]
  },
  {
   "cell_type": "code",
   "execution_count": 24,
   "id": "20ae7c78",
   "metadata": {},
   "outputs": [
    {
     "name": "stdout",
     "output_type": "stream",
     "text": [
      "Collecting seaborn\n",
      "  Using cached seaborn-0.13.2-py3-none-any.whl.metadata (5.4 kB)\n",
      "Requirement already satisfied: numpy!=1.24.0,>=1.20 in c:\\users\\diash\\anaconda3\\envs\\generative_ai\\lib\\site-packages (from seaborn) (1.26.4)\n",
      "Requirement already satisfied: pandas>=1.2 in c:\\users\\diash\\anaconda3\\envs\\generative_ai\\lib\\site-packages (from seaborn) (2.2.2)\n",
      "Requirement already satisfied: matplotlib!=3.6.1,>=3.4 in c:\\users\\diash\\anaconda3\\envs\\generative_ai\\lib\\site-packages (from seaborn) (3.9.2)\n",
      "Requirement already satisfied: contourpy>=1.0.1 in c:\\users\\diash\\anaconda3\\envs\\generative_ai\\lib\\site-packages (from matplotlib!=3.6.1,>=3.4->seaborn) (1.3.0)\n",
      "Requirement already satisfied: cycler>=0.10 in c:\\users\\diash\\anaconda3\\envs\\generative_ai\\lib\\site-packages (from matplotlib!=3.6.1,>=3.4->seaborn) (0.12.1)\n",
      "Requirement already satisfied: fonttools>=4.22.0 in c:\\users\\diash\\anaconda3\\envs\\generative_ai\\lib\\site-packages (from matplotlib!=3.6.1,>=3.4->seaborn) (4.53.1)\n",
      "Requirement already satisfied: kiwisolver>=1.3.1 in c:\\users\\diash\\anaconda3\\envs\\generative_ai\\lib\\site-packages (from matplotlib!=3.6.1,>=3.4->seaborn) (1.4.7)\n",
      "Requirement already satisfied: packaging>=20.0 in c:\\users\\diash\\anaconda3\\envs\\generative_ai\\lib\\site-packages (from matplotlib!=3.6.1,>=3.4->seaborn) (23.2)\n",
      "Requirement already satisfied: pillow>=8 in c:\\users\\diash\\anaconda3\\envs\\generative_ai\\lib\\site-packages (from matplotlib!=3.6.1,>=3.4->seaborn) (10.3.0)\n",
      "Requirement already satisfied: pyparsing>=2.3.1 in c:\\users\\diash\\anaconda3\\envs\\generative_ai\\lib\\site-packages (from matplotlib!=3.6.1,>=3.4->seaborn) (3.1.4)\n",
      "Requirement already satisfied: python-dateutil>=2.7 in c:\\users\\diash\\anaconda3\\envs\\generative_ai\\lib\\site-packages (from matplotlib!=3.6.1,>=3.4->seaborn) (2.9.0)\n",
      "Requirement already satisfied: pytz>=2020.1 in c:\\users\\diash\\anaconda3\\envs\\generative_ai\\lib\\site-packages (from pandas>=1.2->seaborn) (2023.3.post1)\n",
      "Requirement already satisfied: tzdata>=2022.7 in c:\\users\\diash\\anaconda3\\envs\\generative_ai\\lib\\site-packages (from pandas>=1.2->seaborn) (2024.1)\n",
      "Requirement already satisfied: six>=1.5 in c:\\users\\diash\\anaconda3\\envs\\generative_ai\\lib\\site-packages (from python-dateutil>=2.7->matplotlib!=3.6.1,>=3.4->seaborn) (1.16.0)\n",
      "Using cached seaborn-0.13.2-py3-none-any.whl (294 kB)\n",
      "Installing collected packages: seaborn\n",
      "Successfully installed seaborn-0.13.2\n",
      "Note: you may need to restart the kernel to use updated packages.\n"
     ]
    },
    {
     "name": "stderr",
     "output_type": "stream",
     "text": [
      "DEPRECATION: Loading egg at c:\\users\\diash\\anaconda3\\envs\\generative_ai\\lib\\site-packages\\trt_pose-0.0.1-py3.11-win-amd64.egg is deprecated. pip 24.3 will enforce this behaviour change. A possible replacement is to use pip for package installation.. Discussion can be found at https://github.com/pypa/pip/issues/12330\n"
     ]
    }
   ],
   "source": [
    "pip install seaborn"
   ]
  },
  {
   "cell_type": "code",
   "execution_count": null,
   "id": "bbb15580",
   "metadata": {},
   "outputs": [],
   "source": []
  },
  {
   "cell_type": "code",
   "execution_count": null,
   "id": "861392ee",
   "metadata": {},
   "outputs": [],
   "source": []
  }
 ],
 "metadata": {
  "kernelspec": {
   "display_name": "Generative_ai",
   "language": "python",
   "name": "python3"
  },
  "language_info": {
   "codemirror_mode": {
    "name": "ipython",
    "version": 3
   },
   "file_extension": ".py",
   "mimetype": "text/x-python",
   "name": "python",
   "nbconvert_exporter": "python",
   "pygments_lexer": "ipython3",
   "version": "3.11.8"
  }
 },
 "nbformat": 4,
 "nbformat_minor": 5
}
